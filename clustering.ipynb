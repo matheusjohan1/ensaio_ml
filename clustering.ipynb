{
 "cells": [
  {
   "cell_type": "markdown",
   "id": "51cd3790",
   "metadata": {},
   "source": [
    "# 1.0 Importing libraries"
   ]
  },
  {
   "cell_type": "code",
   "execution_count": 1,
   "id": "dca98b52",
   "metadata": {
    "ExecuteTime": {
     "end_time": "2023-10-11T18:59:07.548822Z",
     "start_time": "2023-10-11T18:59:03.064144Z"
    }
   },
   "outputs": [],
   "source": [
    "import pandas as pd\n",
    "import numpy as np \n",
    "from matplotlib import pyplot as plt\n",
    "\n",
    "from sklearn import metrics as mt\n",
    "from sklearn import cluster as ct"
   ]
  },
  {
   "cell_type": "markdown",
   "id": "e60d45c9",
   "metadata": {},
   "source": [
    "# 2.0 Functions"
   ]
  },
  {
   "cell_type": "code",
   "execution_count": null,
   "id": "8774c043",
   "metadata": {},
   "outputs": [],
   "source": []
  },
  {
   "cell_type": "markdown",
   "id": "50e2603e",
   "metadata": {},
   "source": [
    "# 3.0 Loading dataset"
   ]
  },
  {
   "cell_type": "code",
   "execution_count": 3,
   "id": "ea8239ac",
   "metadata": {
    "ExecuteTime": {
     "end_time": "2023-10-11T18:59:07.618739Z",
     "start_time": "2023-10-11T18:59:07.583397Z"
    }
   },
   "outputs": [],
   "source": [
    "# Training data\n",
    "X_train = pd.read_csv('datasets/pa_datasets/clustering/X_dataset.csv')"
   ]
  },
  {
   "cell_type": "markdown",
   "id": "047ff8e0",
   "metadata": {},
   "source": [
    "# 4.0 Checking dataset"
   ]
  },
  {
   "cell_type": "code",
   "execution_count": 4,
   "id": "e21b73e6",
   "metadata": {
    "ExecuteTime": {
     "end_time": "2023-10-11T18:59:07.665282Z",
     "start_time": "2023-10-11T18:59:07.658673Z"
    }
   },
   "outputs": [
    {
     "name": "stdout",
     "output_type": "stream",
     "text": [
      "Number of rows: 178\n",
      "Number of columns: 13\n"
     ]
    }
   ],
   "source": [
    "print(f'Number of rows: {X_train.shape[0]}')\n",
    "print(f'Number of columns: {X_train.shape[1]}')"
   ]
  },
  {
   "cell_type": "code",
   "execution_count": 5,
   "id": "ca6b110d",
   "metadata": {
    "ExecuteTime": {
     "end_time": "2023-10-11T18:59:07.716088Z",
     "start_time": "2023-10-11T18:59:07.695120Z"
    }
   },
   "outputs": [
    {
     "data": {
      "text/html": [
       "<div>\n",
       "<style scoped>\n",
       "    .dataframe tbody tr th:only-of-type {\n",
       "        vertical-align: middle;\n",
       "    }\n",
       "\n",
       "    .dataframe tbody tr th {\n",
       "        vertical-align: top;\n",
       "    }\n",
       "\n",
       "    .dataframe thead th {\n",
       "        text-align: right;\n",
       "    }\n",
       "</style>\n",
       "<table border=\"1\" class=\"dataframe\">\n",
       "  <thead>\n",
       "    <tr style=\"text-align: right;\">\n",
       "      <th></th>\n",
       "      <th>alcohol</th>\n",
       "      <th>malic_acid</th>\n",
       "      <th>ash</th>\n",
       "      <th>ash_alcanity</th>\n",
       "      <th>magnesium</th>\n",
       "      <th>total_phenols</th>\n",
       "      <th>flavanoids</th>\n",
       "      <th>nonflavanoid_phenols</th>\n",
       "      <th>proanthocyanins</th>\n",
       "      <th>color_intensity</th>\n",
       "      <th>hue</th>\n",
       "      <th>od280</th>\n",
       "      <th>proline</th>\n",
       "    </tr>\n",
       "  </thead>\n",
       "  <tbody>\n",
       "    <tr>\n",
       "      <th>0</th>\n",
       "      <td>1.518613</td>\n",
       "      <td>0.191700</td>\n",
       "      <td>0.232053</td>\n",
       "      <td>-1.169593</td>\n",
       "      <td>1.913905</td>\n",
       "      <td>0.627586</td>\n",
       "      <td>0.573840</td>\n",
       "      <td>-0.659563</td>\n",
       "      <td>1.224884</td>\n",
       "      <td>0.251717</td>\n",
       "      <td>0.455285</td>\n",
       "      <td>0.970696</td>\n",
       "      <td>0.561341</td>\n",
       "    </tr>\n",
       "    <tr>\n",
       "      <th>1</th>\n",
       "      <td>0.246290</td>\n",
       "      <td>0.205534</td>\n",
       "      <td>-0.827996</td>\n",
       "      <td>-2.490847</td>\n",
       "      <td>0.018145</td>\n",
       "      <td>0.575862</td>\n",
       "      <td>0.510549</td>\n",
       "      <td>-0.820719</td>\n",
       "      <td>-0.544721</td>\n",
       "      <td>-0.293321</td>\n",
       "      <td>0.463415</td>\n",
       "      <td>0.780220</td>\n",
       "      <td>0.550642</td>\n",
       "    </tr>\n",
       "    <tr>\n",
       "      <th>2</th>\n",
       "      <td>0.196879</td>\n",
       "      <td>0.320158</td>\n",
       "      <td>1.109334</td>\n",
       "      <td>-0.268738</td>\n",
       "      <td>0.088358</td>\n",
       "      <td>0.627586</td>\n",
       "      <td>0.611814</td>\n",
       "      <td>-0.498407</td>\n",
       "      <td>2.135968</td>\n",
       "      <td>0.269020</td>\n",
       "      <td>0.447154</td>\n",
       "      <td>0.695971</td>\n",
       "      <td>0.646933</td>\n",
       "    </tr>\n",
       "    <tr>\n",
       "      <th>3</th>\n",
       "      <td>1.691550</td>\n",
       "      <td>0.239130</td>\n",
       "      <td>0.487926</td>\n",
       "      <td>-0.809251</td>\n",
       "      <td>0.930918</td>\n",
       "      <td>0.989655</td>\n",
       "      <td>0.664557</td>\n",
       "      <td>-0.981875</td>\n",
       "      <td>1.032155</td>\n",
       "      <td>1.186068</td>\n",
       "      <td>0.308943</td>\n",
       "      <td>0.798535</td>\n",
       "      <td>0.857347</td>\n",
       "    </tr>\n",
       "    <tr>\n",
       "      <th>4</th>\n",
       "      <td>0.295700</td>\n",
       "      <td>0.365613</td>\n",
       "      <td>1.840403</td>\n",
       "      <td>0.451946</td>\n",
       "      <td>1.281985</td>\n",
       "      <td>0.627586</td>\n",
       "      <td>0.495781</td>\n",
       "      <td>0.226796</td>\n",
       "      <td>0.401404</td>\n",
       "      <td>-0.319276</td>\n",
       "      <td>0.455285</td>\n",
       "      <td>0.608059</td>\n",
       "      <td>0.325963</td>\n",
       "    </tr>\n",
       "  </tbody>\n",
       "</table>\n",
       "</div>"
      ],
      "text/plain": [
       "    alcohol  malic_acid       ash  ash_alcanity  magnesium  total_phenols  \\\n",
       "0  1.518613    0.191700  0.232053     -1.169593   1.913905       0.627586   \n",
       "1  0.246290    0.205534 -0.827996     -2.490847   0.018145       0.575862   \n",
       "2  0.196879    0.320158  1.109334     -0.268738   0.088358       0.627586   \n",
       "3  1.691550    0.239130  0.487926     -0.809251   0.930918       0.989655   \n",
       "4  0.295700    0.365613  1.840403      0.451946   1.281985       0.627586   \n",
       "\n",
       "   flavanoids  nonflavanoid_phenols  proanthocyanins  color_intensity  \\\n",
       "0    0.573840             -0.659563         1.224884         0.251717   \n",
       "1    0.510549             -0.820719        -0.544721        -0.293321   \n",
       "2    0.611814             -0.498407         2.135968         0.269020   \n",
       "3    0.664557             -0.981875         1.032155         1.186068   \n",
       "4    0.495781              0.226796         0.401404        -0.319276   \n",
       "\n",
       "        hue     od280   proline  \n",
       "0  0.455285  0.970696  0.561341  \n",
       "1  0.463415  0.780220  0.550642  \n",
       "2  0.447154  0.695971  0.646933  \n",
       "3  0.308943  0.798535  0.857347  \n",
       "4  0.455285  0.608059  0.325963  "
      ]
     },
     "execution_count": 5,
     "metadata": {},
     "output_type": "execute_result"
    }
   ],
   "source": [
    "X_train.head()"
   ]
  },
  {
   "cell_type": "code",
   "execution_count": 6,
   "id": "0871a5f6",
   "metadata": {
    "ExecuteTime": {
     "end_time": "2023-10-11T18:59:07.761425Z",
     "start_time": "2023-10-11T18:59:07.746095Z"
    }
   },
   "outputs": [
    {
     "name": "stdout",
     "output_type": "stream",
     "text": [
      "<class 'pandas.core.frame.DataFrame'>\n",
      "RangeIndex: 178 entries, 0 to 177\n",
      "Data columns (total 13 columns):\n",
      " #   Column                Non-Null Count  Dtype  \n",
      "---  ------                --------------  -----  \n",
      " 0   alcohol               178 non-null    float64\n",
      " 1   malic_acid            178 non-null    float64\n",
      " 2   ash                   178 non-null    float64\n",
      " 3   ash_alcanity          178 non-null    float64\n",
      " 4   magnesium             178 non-null    float64\n",
      " 5   total_phenols         178 non-null    float64\n",
      " 6   flavanoids            178 non-null    float64\n",
      " 7   nonflavanoid_phenols  178 non-null    float64\n",
      " 8   proanthocyanins       178 non-null    float64\n",
      " 9   color_intensity       178 non-null    float64\n",
      " 10  hue                   178 non-null    float64\n",
      " 11  od280                 178 non-null    float64\n",
      " 12  proline               178 non-null    float64\n",
      "dtypes: float64(13)\n",
      "memory usage: 18.2 KB\n"
     ]
    }
   ],
   "source": [
    "X_train.info()"
   ]
  },
  {
   "cell_type": "code",
   "execution_count": 7,
   "id": "7c73f97b",
   "metadata": {
    "ExecuteTime": {
     "end_time": "2023-10-11T18:59:07.796338Z",
     "start_time": "2023-10-11T18:59:07.789419Z"
    }
   },
   "outputs": [
    {
     "data": {
      "text/plain": [
       "Index(['alcohol', 'malic_acid', 'ash', 'ash_alcanity', 'magnesium',\n",
       "       'total_phenols', 'flavanoids', 'nonflavanoid_phenols',\n",
       "       'proanthocyanins', 'color_intensity', 'hue', 'od280', 'proline'],\n",
       "      dtype='object')"
      ]
     },
     "execution_count": 7,
     "metadata": {},
     "output_type": "execute_result"
    }
   ],
   "source": [
    "X_train.columns"
   ]
  },
  {
   "cell_type": "markdown",
   "id": "94228343",
   "metadata": {},
   "source": [
    "# 5.0 K-Means"
   ]
  },
  {
   "cell_type": "code",
   "execution_count": 8,
   "id": "8103fb26",
   "metadata": {
    "ExecuteTime": {
     "end_time": "2023-10-11T18:59:08.914469Z",
     "start_time": "2023-10-11T18:59:08.454100Z"
    }
   },
   "outputs": [],
   "source": [
    "n_clusters = []\n",
    "ss_list = []\n",
    "\n",
    "for i in range(2, 15):\n",
    "    n_clusters.append(i)\n",
    "    # define\n",
    "    kmeans = ct.KMeans(n_clusters = i, n_init=1)\n",
    "    \n",
    "    # fit \n",
    "    labels = kmeans.fit_predict(X_train)\n",
    "    \n",
    "    # performance\n",
    "    ss_avg = mt.silhouette_score(X_train, labels)\n",
    "    \n",
    "    ss_list.append(ss_avg)"
   ]
  },
  {
   "cell_type": "code",
   "execution_count": 9,
   "id": "77b464ca",
   "metadata": {
    "ExecuteTime": {
     "end_time": "2023-10-11T18:59:09.231523Z",
     "start_time": "2023-10-11T18:59:08.988798Z"
    }
   },
   "outputs": [
    {
     "data": {
      "image/png": "[encoded data removed]",
      "text/plain": [
       "<Figure size 640x480 with 1 Axes>"
      ]
     },
     "metadata": {},
     "output_type": "display_data"
    }
   ],
   "source": [
    "plt.plot( n_clusters, ss_list, marker='o' )\n",
    "plt.xlabel( 'Number of Clusters' );\n",
    "plt.ylabel( 'Average Silhouette Score' );\n"
   ]
  },
  {
   "cell_type": "code",
   "execution_count": 168,
   "id": "b2f7e6df",
   "metadata": {
    "ExecuteTime": {
     "end_time": "2023-10-11T22:54:26.283669Z",
     "start_time": "2023-10-11T22:54:26.279949Z"
    }
   },
   "outputs": [],
   "source": [
    "d = {'K':n_clusters, 'SS Score':ss_list}\n",
    "kmeans_ss_results = pd.DataFrame(data=d)"
   ]
  },
  {
   "cell_type": "code",
   "execution_count": 171,
   "id": "7a40a4d0",
   "metadata": {
    "ExecuteTime": {
     "end_time": "2023-10-11T22:54:45.464395Z",
     "start_time": "2023-10-11T22:54:45.454116Z"
    }
   },
   "outputs": [
    {
     "data": {
      "text/html": [
       "<div>\n",
       "<style scoped>\n",
       "    .dataframe tbody tr th:only-of-type {\n",
       "        vertical-align: middle;\n",
       "    }\n",
       "\n",
       "    .dataframe tbody tr th {\n",
       "        vertical-align: top;\n",
       "    }\n",
       "\n",
       "    .dataframe thead th {\n",
       "        text-align: right;\n",
       "    }\n",
       "</style>\n",
       "<table border=\"1\" class=\"dataframe\">\n",
       "  <thead>\n",
       "    <tr style=\"text-align: right;\">\n",
       "      <th></th>\n",
       "      <th>K</th>\n",
       "      <th>SS Score</th>\n",
       "    </tr>\n",
       "  </thead>\n",
       "  <tbody>\n",
       "    <tr>\n",
       "      <th>2</th>\n",
       "      <td>4</td>\n",
       "      <td>0.235905</td>\n",
       "    </tr>\n",
       "  </tbody>\n",
       "</table>\n",
       "</div>"
      ],
      "text/plain": [
       "   K  SS Score\n",
       "2  4  0.235905"
      ]
     },
     "execution_count": 171,
     "metadata": {},
     "output_type": "execute_result"
    }
   ],
   "source": [
    "best_kmeans = kmeans_ss_results.loc[kmeans_ss_results['SS Score'] == kmeans_ss_results['SS Score'].max()]\n",
    "best_kmeans"
   ]
  },
  {
   "cell_type": "markdown",
   "id": "faec1613",
   "metadata": {},
   "source": [
    "# 6.0 Affinity Propagation"
   ]
  },
  {
   "cell_type": "code",
   "execution_count": 232,
   "id": "ebe64b56",
   "metadata": {
    "ExecuteTime": {
     "end_time": "2023-10-11T23:16:35.487471Z",
     "start_time": "2023-10-11T23:16:33.265600Z"
    }
   },
   "outputs": [],
   "source": [
    "af_ss_results = pd.DataFrame()\n",
    "ss_results = []\n",
    "for i in range(-100, -1):\n",
    "    # define\n",
    "    af = ct.AffinityPropagation(preference=i)\n",
    "    \n",
    "    # fit\n",
    "    af.fit(X_train)\n",
    "    \n",
    "    # predict\n",
    "    labels = af.predict(X_train)\n",
    "    \n",
    "    # performance\n",
    "    ss_results.append(mt.silhouette_score(X_train, labels))\n",
    "    \n",
    "    for j in range(len(ss_results)):\n",
    "        results_ss = pd.DataFrame({'Preference': i, 'SS Score': ss_results[j]}, index=[0])\n",
    "    \n",
    "    \n",
    "    af_ss_results = pd.concat( [af_ss_results, results_ss ], axis=0)"
   ]
  },
  {
   "cell_type": "code",
   "execution_count": 233,
   "id": "99c35afa",
   "metadata": {
    "ExecuteTime": {
     "end_time": "2023-10-11T23:16:35.553049Z",
     "start_time": "2023-10-11T23:16:35.543371Z"
    }
   },
   "outputs": [
    {
     "data": {
      "text/html": [
       "<div>\n",
       "<style scoped>\n",
       "    .dataframe tbody tr th:only-of-type {\n",
       "        vertical-align: middle;\n",
       "    }\n",
       "\n",
       "    .dataframe tbody tr th {\n",
       "        vertical-align: top;\n",
       "    }\n",
       "\n",
       "    .dataframe thead th {\n",
       "        text-align: right;\n",
       "    }\n",
       "</style>\n",
       "<table border=\"1\" class=\"dataframe\">\n",
       "  <thead>\n",
       "    <tr style=\"text-align: right;\">\n",
       "      <th></th>\n",
       "      <th>Preference</th>\n",
       "      <th>SS Score</th>\n",
       "    </tr>\n",
       "  </thead>\n",
       "  <tbody>\n",
       "    <tr>\n",
       "      <th>0</th>\n",
       "      <td>-100</td>\n",
       "      <td>0.158776</td>\n",
       "    </tr>\n",
       "    <tr>\n",
       "      <th>0</th>\n",
       "      <td>-99</td>\n",
       "      <td>0.153280</td>\n",
       "    </tr>\n",
       "    <tr>\n",
       "      <th>0</th>\n",
       "      <td>-98</td>\n",
       "      <td>0.153280</td>\n",
       "    </tr>\n",
       "    <tr>\n",
       "      <th>0</th>\n",
       "      <td>-97</td>\n",
       "      <td>0.153280</td>\n",
       "    </tr>\n",
       "    <tr>\n",
       "      <th>0</th>\n",
       "      <td>-96</td>\n",
       "      <td>0.153280</td>\n",
       "    </tr>\n",
       "    <tr>\n",
       "      <th>...</th>\n",
       "      <td>...</td>\n",
       "      <td>...</td>\n",
       "    </tr>\n",
       "    <tr>\n",
       "      <th>0</th>\n",
       "      <td>-6</td>\n",
       "      <td>0.164841</td>\n",
       "    </tr>\n",
       "    <tr>\n",
       "      <th>0</th>\n",
       "      <td>-5</td>\n",
       "      <td>0.164493</td>\n",
       "    </tr>\n",
       "    <tr>\n",
       "      <th>0</th>\n",
       "      <td>-4</td>\n",
       "      <td>0.156879</td>\n",
       "    </tr>\n",
       "    <tr>\n",
       "      <th>0</th>\n",
       "      <td>-3</td>\n",
       "      <td>0.148043</td>\n",
       "    </tr>\n",
       "    <tr>\n",
       "      <th>0</th>\n",
       "      <td>-2</td>\n",
       "      <td>0.129858</td>\n",
       "    </tr>\n",
       "  </tbody>\n",
       "</table>\n",
       "<p>99 rows × 2 columns</p>\n",
       "</div>"
      ],
      "text/plain": [
       "    Preference  SS Score\n",
       "0         -100  0.158776\n",
       "0          -99  0.153280\n",
       "0          -98  0.153280\n",
       "0          -97  0.153280\n",
       "0          -96  0.153280\n",
       "..         ...       ...\n",
       "0           -6  0.164841\n",
       "0           -5  0.164493\n",
       "0           -4  0.156879\n",
       "0           -3  0.148043\n",
       "0           -2  0.129858\n",
       "\n",
       "[99 rows x 2 columns]"
      ]
     },
     "execution_count": 233,
     "metadata": {},
     "output_type": "execute_result"
    }
   ],
   "source": [
    "af_ss_results"
   ]
  },
  {
   "cell_type": "code",
   "execution_count": 156,
   "id": "3d3118e7",
   "metadata": {
    "ExecuteTime": {
     "end_time": "2023-10-11T22:49:08.353909Z",
     "start_time": "2023-10-11T22:49:08.348403Z"
    }
   },
   "outputs": [],
   "source": [
    "af_ss_results.reset_index(drop=True, inplace=True)"
   ]
  },
  {
   "cell_type": "code",
   "execution_count": 157,
   "id": "f6bf1026",
   "metadata": {
    "ExecuteTime": {
     "end_time": "2023-10-11T22:49:11.812620Z",
     "start_time": "2023-10-11T22:49:11.558346Z"
    }
   },
   "outputs": [
    {
     "data": {
      "image/png": "[encoded data removed]",
      "text/plain": [
       "<Figure size 2000x600 with 1 Axes>"
      ]
     },
     "metadata": {},
     "output_type": "display_data"
    }
   ],
   "source": [
    "plt.figure(figsize=(20,6))\n",
    "plt.plot( af_ss_results['Preference'],  af_ss_results['SS Score'], marker='o' )\n",
    "plt.xlabel( 'Number of Clusters' );\n",
    "plt.ylabel( 'Average Silhouette Score' );"
   ]
  },
  {
   "cell_type": "code",
   "execution_count": 197,
   "id": "678a1d12",
   "metadata": {
    "ExecuteTime": {
     "end_time": "2023-10-11T23:00:12.573589Z",
     "start_time": "2023-10-11T23:00:12.563754Z"
    }
   },
   "outputs": [
    {
     "data": {
      "text/html": [
       "<div>\n",
       "<style scoped>\n",
       "    .dataframe tbody tr th:only-of-type {\n",
       "        vertical-align: middle;\n",
       "    }\n",
       "\n",
       "    .dataframe tbody tr th {\n",
       "        vertical-align: top;\n",
       "    }\n",
       "\n",
       "    .dataframe thead th {\n",
       "        text-align: right;\n",
       "    }\n",
       "</style>\n",
       "<table border=\"1\" class=\"dataframe\">\n",
       "  <thead>\n",
       "    <tr style=\"text-align: right;\">\n",
       "      <th></th>\n",
       "      <th>Preference</th>\n",
       "      <th>SS Score</th>\n",
       "    </tr>\n",
       "  </thead>\n",
       "  <tbody>\n",
       "    <tr>\n",
       "      <th>0</th>\n",
       "      <td>-47</td>\n",
       "      <td>0.203658</td>\n",
       "    </tr>\n",
       "  </tbody>\n",
       "</table>\n",
       "</div>"
      ],
      "text/plain": [
       "   Preference  SS Score\n",
       "0         -47  0.203658"
      ]
     },
     "execution_count": 197,
     "metadata": {},
     "output_type": "execute_result"
    }
   ],
   "source": [
    "best_af_ss = af_ss_results.loc[af_ss_results['SS Score'] == af_ss_results['SS Score'].max() ].reset_index(drop=True)\n",
    "best_af_ss"
   ]
  },
  {
   "cell_type": "code",
   "execution_count": 198,
   "id": "61cbd68d",
   "metadata": {
    "ExecuteTime": {
     "end_time": "2023-10-11T23:00:14.528360Z",
     "start_time": "2023-10-11T23:00:14.522745Z"
    }
   },
   "outputs": [
    {
     "data": {
      "text/plain": [
       "0.20365750456597356"
      ]
     },
     "execution_count": 198,
     "metadata": {},
     "output_type": "execute_result"
    }
   ],
   "source": [
    "best_af_ss['SS Score'][0]"
   ]
  },
  {
   "cell_type": "markdown",
   "id": "0728c37c",
   "metadata": {},
   "source": [
    "# 7.0 Comparing Results"
   ]
  },
  {
   "cell_type": "code",
   "execution_count": 162,
   "id": "8c3b21f1",
   "metadata": {
    "ExecuteTime": {
     "end_time": "2023-10-11T22:52:18.196835Z",
     "start_time": "2023-10-11T22:52:18.189774Z"
    }
   },
   "outputs": [],
   "source": [
    "clustering_results = pd.DataFrame(columns=['model', 'silhouette_score'])"
   ]
  },
  {
   "cell_type": "code",
   "execution_count": 228,
   "id": "ef447556",
   "metadata": {
    "ExecuteTime": {
     "end_time": "2023-10-11T23:14:57.232662Z",
     "start_time": "2023-10-11T23:14:57.226945Z"
    }
   },
   "outputs": [],
   "source": [
    "clustering_results.at[0, 'model'] = 'K-Means'\n",
    "clustering_results.at[0, 'silhouette_score'] = round(kmeans_ss_results['SS Score'][0], 4)\n",
    "\n",
    "clustering_results.at[1, 'model'] = 'Affinity Propagation'\n",
    "clustering_results.at[1, 'silhouette_score'] = round(best_af_ss['SS Score'][0], 4)"
   ]
  },
  {
   "cell_type": "code",
   "execution_count": 229,
   "id": "e66d4b7d",
   "metadata": {
    "ExecuteTime": {
     "end_time": "2023-10-11T23:14:57.737932Z",
     "start_time": "2023-10-11T23:14:57.728812Z"
    }
   },
   "outputs": [
    {
     "data": {
      "text/html": [
       "<div>\n",
       "<style scoped>\n",
       "    .dataframe tbody tr th:only-of-type {\n",
       "        vertical-align: middle;\n",
       "    }\n",
       "\n",
       "    .dataframe tbody tr th {\n",
       "        vertical-align: top;\n",
       "    }\n",
       "\n",
       "    .dataframe thead th {\n",
       "        text-align: right;\n",
       "    }\n",
       "</style>\n",
       "<table border=\"1\" class=\"dataframe\">\n",
       "  <thead>\n",
       "    <tr style=\"text-align: right;\">\n",
       "      <th></th>\n",
       "      <th>model</th>\n",
       "      <th>silhouette_score</th>\n",
       "    </tr>\n",
       "  </thead>\n",
       "  <tbody>\n",
       "    <tr>\n",
       "      <th>0</th>\n",
       "      <td>K-Means</td>\n",
       "      <td>0.1922</td>\n",
       "    </tr>\n",
       "    <tr>\n",
       "      <th>1</th>\n",
       "      <td>Affinity Propagation</td>\n",
       "      <td>0.2037</td>\n",
       "    </tr>\n",
       "  </tbody>\n",
       "</table>\n",
       "</div>"
      ],
      "text/plain": [
       "                  model silhouette_score\n",
       "0               K-Means           0.1922\n",
       "1  Affinity Propagation           0.2037"
      ]
     },
     "execution_count": 229,
     "metadata": {},
     "output_type": "execute_result"
    }
   ],
   "source": [
    "clustering_results"
   ]
  },
  {
   "cell_type": "code",
   "execution_count": 230,
   "id": "712b9005",
   "metadata": {
    "ExecuteTime": {
     "end_time": "2023-10-11T23:14:59.336212Z",
     "start_time": "2023-10-11T23:14:58.869194Z"
    }
   },
   "outputs": [
    {
     "data": {
      "image/png": "[encoded data removed]",
      "text/plain": [
       "<Figure size 1000x600 with 1 Axes>"
      ]
     },
     "metadata": {},
     "output_type": "display_data"
    }
   ],
   "source": [
    "plt.figure(figsize=(10,6))\n",
    "ax = plt.bar( clustering_results['model'],  clustering_results['silhouette_score'] )\n",
    "for i in range(len(clustering_results['model'])):\n",
    "    plt.text(i, clustering_results['silhouette_score'][i], clustering_results['silhouette_score'][i], ha = 'center')\n",
    "plt.xlabel( 'ML Algorithm' );\n",
    "plt.ylabel( 'Average Silhouette Score' );"
   ]
  }
 ],
 "metadata": {
  "hide_input": false,
  "kernelspec": {
   "display_name": "Python 3 (ipykernel)",
   "language": "python",
   "name": "python3"
  },
  "language_info": {
   "codemirror_mode": {
    "name": "ipython",
    "version": 3
   },
   "file_extension": ".py",
   "mimetype": "text/x-python",
   "name": "python",
   "nbconvert_exporter": "python",
   "pygments_lexer": "ipython3",
   "version": "3.11.3"
  },
  "toc": {
   "base_numbering": 1,
   "nav_menu": {},
   "number_sections": false,
   "sideBar": true,
   "skip_h1_title": false,
   "title_cell": "Table of Contents",
   "title_sidebar": "Contents",
   "toc_cell": false,
   "toc_position": {},
   "toc_section_display": true,
   "toc_window_display": true
  },
  "varInspector": {
   "cols": {
    "lenName": 16,
    "lenType": 16,
    "lenVar": 40
   },
   "kernels_config": {
    "python": {
     "delete_cmd_postfix": "",
     "delete_cmd_prefix": "del ",
     "library": "var_list.py",
     "varRefreshCmd": "print(var_dic_list())"
    },
    "r": {
     "delete_cmd_postfix": ") ",
     "delete_cmd_prefix": "rm(",
     "library": "var_list.r",
     "varRefreshCmd": "cat(var_dic_list()) "
    }
   },
   "types_to_exclude": [
    "module",
    "function",
    "builtin_function_or_method",
    "instance",
    "_Feature"
   ],
   "window_display": false
  }
 },
 "nbformat": 4,
 "nbformat_minor": 5
}
